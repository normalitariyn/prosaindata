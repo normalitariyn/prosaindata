{
  "nbformat": 4,
  "nbformat_minor": 0,
  "metadata": {
    "colab": {
      "provenance": [],
      "authorship_tag": "ABX9TyPV9PrAIKBZAfB1FM/VBHXQ",
      "include_colab_link": true
    },
    "kernelspec": {
      "name": "python3",
      "display_name": "Python 3"
    },
    "language_info": {
      "name": "python"
    }
  },
  "cells": [
    {
      "cell_type": "markdown",
      "metadata": {
        "id": "view-in-github",
        "colab_type": "text"
      },
      "source": [
        "<a href=\"https://colab.research.google.com/github/normalitariyn/prosaindata/blob/main/Tugas_Membuat_Pipeline.ipynb\" target=\"_parent\"><img src=\"https://colab.research.google.com/assets/colab-badge.svg\" alt=\"Open In Colab\"/></a>"
      ]
    },
    {
      "cell_type": "markdown",
      "source": [
        "Nama  : Normalita Eka Ariyanti \n",
        "\n",
        "NIM   : 20041110084\n",
        "\n",
        "Kelas : PSD C"
      ],
      "metadata": {
        "id": "WZRkESFLrW8A"
      }
    },
    {
      "cell_type": "markdown",
      "source": [
        "# **MEMBUAT PIPELINES**\n",
        "\n",
        "1. Melakukan hosting pada postgresql, sql server, dan my sql untuk mendapatkan hostnamenya dengan menggunakan cloud cluster \n",
        "   Cara :\n",
        "   - login ke cloud cluster, kemudian lakukan manage pada postgresql, sql server, dan my sql \n",
        "   - buat database dan users pada setiap tool di cloud cluster kemudian hubungkan ke postgresql, sql server, dan my sql \n",
        "\n",
        "2. Membuat database pada = \n",
        "  - postgresql local yang berisi data sepal length \n",
        "  - postgresql elephant yang berisi data sepal width \n",
        "  - mysql local yang berisi petal length \n",
        "  - sql server local yang berisi petal width dan class \n",
        "\n",
        "3. Membuat new pipeline pada orchest.io \n",
        "4. Membuat environment dengan menggunakan bahasa pemrograman python dengan memasukan perintah \n",
        "\n",
        "          ```\n",
        "          pip install pandas scikit-learn matplotlib\n",
        "          pip install psycopg2-binary\n",
        "          pip install pymssql\n",
        "          pip install mysql-connector-python\n",
        "          ```\n",
        "5. Membuat file python untuk melakukan :\n",
        "   - ambil data sepal length dari postgresql local \n",
        "   - ambil data sepal width dari postgresql elephant \n",
        "   - ambil data petal length dari my sql local \n",
        "   - ambil data petal width dari sql server local \n",
        "   - gabung data sepal length, sepal width, petal length, petal width \n",
        "   - pemisahan data dari class\n",
        "   - pemisahan menjadi class saja \n",
        "\n",
        "6. Membuat step berdasarkan file python yang sesuai. Pada pekerjaan saya, saya membuat 7 step (rincian step seperti poin di nomer 5) \n",
        "7. Hubungkan step sepal length, sepal width, petal length, petal width + class ke step \"menggabungkan 4 tabel\" (untuk menggabungkan data), kemudian step \"menggabungkan 4 tabel\" dihubungkan ke step \"pemisahan data dari class\" dan \"pemisahan menjadi class saja\" \n",
        "8. Masukan code python ke masing-masing file python yang sesuai dengan stepnya. \n",
        "9. Run All Pipeline yang telah dibuat. Apabila step berstatus \"failed\" setelah melakukan run all, maka periksa kembali code yang ada. Jika semua step berstatus \"completed\", maka pipeline menandakan telah berhasil dibuat \n",
        "\n",
        "\n"
      ],
      "metadata": {
        "id": "tpHnpTi6mzH8"
      }
    },
    {
      "cell_type": "markdown",
      "source": [
        "## **CODE DARI SETIAP STEP**"
      ],
      "metadata": {
        "id": "ZXI0Aa8arvu_"
      }
    },
    {
      "cell_type": "markdown",
      "source": [
        "**Ambil data Sepal Length dari postgresql local**"
      ],
      "metadata": {
        "id": "DRcBX5Girol6"
      }
    },
    {
      "cell_type": "code",
      "source": [
        "import psycopg2\n",
        "import pandas as pd\n",
        "import orchest\n",
        "# Connection parameters, yours will be different\n",
        "param_dic = {\n",
        "    \"host\"      : \"postgresql-114559-0.cloudclusters.net\",\n",
        "    \"database\"  : \"prosaindata0084\",\n",
        "    \"port\"  : \"19986\",\n",
        "    \"user\"      : \"Normalita\",\n",
        "    \"password\"  : \"normalita123\"\n",
        "}\n",
        "def connect(params_dic):\n",
        "    \"\"\" Connect to the PostgreSQL database server \"\"\"\n",
        "    conn = None\n",
        "    try:\n",
        "        # connect to the PostgreSQL server\n",
        "        print('Connecting to the PostgreSQL database...')\n",
        "        conn = psycopg2.connect(**params_dic)\n",
        "    except (Exception, psycopg2.DatabaseError) as error:\n",
        "        print(error)\n",
        "    print(\"Connection successful\")\n",
        "    return conn\n",
        "\n",
        "def postgresql_to_dataframe(conn, select_query, column_names):\n",
        "    \"\"\"\n",
        "    Tranform a SELECT query into a pandas dataframe\n",
        "    \"\"\"\n",
        "    cursor = conn.cursor()\n",
        "    try:\n",
        "        cursor.execute(select_query)\n",
        "    except (Exception, psycopg2.DatabaseError) as error:\n",
        "        print(\"Error: %s\" % error)\n",
        "        cursor.close()\n",
        "        return 1\n",
        "    \n",
        "    # Naturally we get a list of tupples\n",
        "    tupples = cursor.fetchall()\n",
        "    cursor.close()\n",
        "    \n",
        "    # We just need to turn it into a pandas dataframe\n",
        "    df = pd.DataFrame(tupples, columns=column_names)\n",
        "    return df\n",
        "\n",
        "# Connect to the database\n",
        "conn = connect(param_dic)\n",
        "\n",
        "column_names = [\"id\",\"sepallength\"]\n",
        "\n",
        "df = postgresql_to_dataframe(conn, \"select * from sepallength\", column_names)\n",
        "print(df)"
      ],
      "metadata": {
        "id": "4IXlRNOssTWo"
      },
      "execution_count": null,
      "outputs": []
    },
    {
      "cell_type": "code",
      "source": [
        "# Output the housing data so the next steps can retrieve it.\n",
        "print(\"Outputting converted housing data...\")\n",
        "orchest.output(df, name=\"datasepallength\")\n",
        "\n",
        "print(\"Success!\")"
      ],
      "metadata": {
        "id": "a6ohmUGwspIw"
      },
      "execution_count": null,
      "outputs": []
    },
    {
      "cell_type": "markdown",
      "source": [
        "**Ambil data Sepal Width dari postgresql elephant**"
      ],
      "metadata": {
        "id": "tQGPzfYErsVH"
      }
    },
    {
      "cell_type": "code",
      "source": [
        "import psycopg2\n",
        "import pandas as pd\n",
        "import orchest\n",
        "# Connection parameters, yours will be different\n",
        "param_dic = {\n",
        "    \"host\"      : \"floppy.db.elephantsql.com\",\n",
        "    \"database\"  : \"vcylnigs\",\n",
        "    \"user\"      : \"vcylnigs\",\n",
        "    \"password\"  : \"wknhb6JjNbsyDMz7qiG_TyXPyOJNiLmC\"\n",
        "}\n",
        "def connect(params_dic):\n",
        "    \"\"\" Connect to the PostgreSQL database server \"\"\"\n",
        "    conn = None\n",
        "    try:\n",
        "        # connect to the PostgreSQL server\n",
        "        print('Connecting to the PostgreSQL database...')\n",
        "        conn = psycopg2.connect(**params_dic)\n",
        "    except (Exception, psycopg2.DatabaseError) as error:\n",
        "        print(error)\n",
        "        sys.exit(1) \n",
        "    print(\"Connection successful\")\n",
        "    return conn\n",
        "\n",
        "def postgresql_to_dataframe(conn, select_query, column_names):\n",
        "    \"\"\"\n",
        "    Tranform a SELECT query into a pandas dataframe\n",
        "    \"\"\"\n",
        "    cursor = conn.cursor()\n",
        "    try:\n",
        "        cursor.execute(select_query)\n",
        "    except (Exception, psycopg2.DatabaseError) as error:\n",
        "        print(\"Error: %s\" % error)\n",
        "        cursor.close()\n",
        "        return 1\n",
        "    \n",
        "    # Naturally we get a list of tupples\n",
        "    tupples = cursor.fetchall()\n",
        "    cursor.close()\n",
        "    \n",
        "    # We just need to turn it into a pandas dataframe\n",
        "    df = pd.DataFrame(tupples, columns=column_names)\n",
        "    return df\n",
        "\n",
        "# Connect to the database\n",
        "conn = connect(param_dic)\n",
        "\n",
        "column_names = [\"id\",\"sepalwidth\"]\n",
        "\n",
        "df = postgresql_to_dataframe(conn, \"select * from sepalwidth\", column_names)\n",
        "print (df)"
      ],
      "metadata": {
        "id": "9SO0KwtXsunN"
      },
      "execution_count": null,
      "outputs": []
    },
    {
      "cell_type": "code",
      "source": [
        "# Output the housing data so the next steps can retrieve it.\n",
        "print(\"Outputting converted housing data...\")\n",
        "orchest.output(df, name=\"datasepalwidth\")\n",
        "\n",
        "print(\"Success!\")"
      ],
      "metadata": {
        "id": "3PmWIz3Gsw-F"
      },
      "execution_count": null,
      "outputs": []
    },
    {
      "cell_type": "markdown",
      "source": [
        "**Ambil data Petal Length dari mysql local**"
      ],
      "metadata": {
        "id": "k0UO9zCusA7j"
      }
    },
    {
      "cell_type": "code",
      "source": [
        "import mysql.connector\n",
        "import pandas as pd\n",
        "import orchest\n",
        "db = mysql.connector.connect(\n",
        "  host=\"mysql-114570-0.cloudclusters.net\",\n",
        "  port=\"10022\",\n",
        "  user=\"admin\",\n",
        "  passwd=\"M17ZS1QH\",\n",
        "  database  = \"prosaindata0084\"\n",
        ")\n",
        "\n",
        "def postgresql_to_dataframe(select_query, column_names):\n",
        "    \"\"\"\n",
        "    Tranform a SELECT query into a pandas dataframe\n",
        "    \"\"\"\n",
        "    cursor = db.cursor()\n",
        "    try:\n",
        "        cursor.execute(select_query)\n",
        "    except (Exception, psycopg2.DatabaseError) as error:\n",
        "        print(\"Error: %s\" % error)\n",
        "        cursor.close()\n",
        "        return 1\n",
        "    \n",
        "    # Naturally we get a list of tupples\n",
        "    tupples = cursor.fetchall()\n",
        "    cursor.close()\n",
        "    \n",
        "    # We just need to turn it into a pandas dataframe\n",
        "    df = pd.DataFrame(tupples, columns=column_names)\n",
        "    return df\n",
        "\n",
        "# Connect to the database\n",
        "column_names = [\"id\",\"petallength\"]\n",
        "df = postgresql_to_dataframe(\"select * from petallength\", column_names)\n",
        "print(df)"
      ],
      "metadata": {
        "id": "Dqe7205_s33Z"
      },
      "execution_count": null,
      "outputs": []
    },
    {
      "cell_type": "code",
      "source": [
        "# Output the housing data so the next steps can retrieve it.\n",
        "print(\"Outputting converted housing data...\")\n",
        "orchest.output(df, name=\"datapetallength\")\n",
        "\n",
        "print(\"Success!\")"
      ],
      "metadata": {
        "id": "ufEkNCFFs7fv"
      },
      "execution_count": null,
      "outputs": []
    },
    {
      "cell_type": "markdown",
      "source": [
        "**Ambil data Petal Width dari sql server**"
      ],
      "metadata": {
        "id": "0vpLynzFsRPo"
      }
    },
    {
      "cell_type": "code",
      "source": [
        "import pymssql\n",
        "import pandas as pd\n",
        "import orchest\n",
        "\n",
        "connection = pymssql.connect(\n",
        "    server='mssql-114575-0.cloudclusters.net',\n",
        "    port = '19988',\n",
        "    user='Normalita',\n",
        "    password='Normalita123',\n",
        "    database='prosaindata0084'\n",
        ")\n",
        "\n",
        "def postgresql_to_dataframe(select_query, column_names):\n",
        "    \"\"\"\n",
        "    Tranform a SELECT query into a pandas dataframe\n",
        "    \"\"\"\n",
        "    cursor = connection.cursor()\n",
        "    try:\n",
        "        cursor.execute(select_query)\n",
        "    except (Exception, psycopg2.DatabaseError) as error:\n",
        "        print(\"Error: %s\" % error)\n",
        "        cursor.close()\n",
        "        return 1\n",
        "    \n",
        "    # Naturally we get a list of tupples\n",
        "    tupples = cursor.fetchall()\n",
        "    cursor.close()\n",
        "    \n",
        "    # We just need to turn it into a pandas dataframe\n",
        "    df = pd.DataFrame(tupples, columns=column_names)\n",
        "    return df\n",
        "\n",
        "# Connect to the database\n",
        "column_names = [\"Id\",\"petalwidth\",\"class\"]\n",
        "df = postgresql_to_dataframe(\"select * from petalwidthClass\", column_names)\n",
        "print(df)"
      ],
      "metadata": {
        "id": "V3mAHNR8s-qW"
      },
      "execution_count": null,
      "outputs": []
    },
    {
      "cell_type": "code",
      "source": [
        "# Output the housing data so the next steps can retrieve it.\n",
        "print(\"Outputting converted housing data...\")\n",
        "orchest.output(df, name=\"datapetalwidth-class\")\n",
        "\n",
        "print(\"Success!\")"
      ],
      "metadata": {
        "id": "Kxjvc_octCSB"
      },
      "execution_count": null,
      "outputs": []
    },
    {
      "cell_type": "markdown",
      "source": [
        "**Menggabungkan data sepal length, sepal width, petal length, petal width**"
      ],
      "metadata": {
        "id": "NTWB-ZDtsXc6"
      }
    },
    {
      "cell_type": "code",
      "source": [
        "# Retrieve the data from the previous step.\n",
        "data = orchest.get_inputs()\n",
        "datasepallength = data[\"datasepallength\"]\n",
        "datasepalwidth = data[\"datasepalwidth\"]\n",
        "datapetallength = data[\"datapetallength\"]\n",
        "datapetalwidth = data[\"datapetalwidth-class\"]\n",
        "\n",
        "alldata = pandas.concat((datasepallength, datasepalwidth,datapetallength,datapetalwidth), axis = 1)\n",
        "alldata = alldata.drop(columns=['id','Id'])\n",
        "alldata\n",
        "\n",
        "# Output the housing data so the next steps can retrieve it.\n",
        "print(\"Outputting converted housing data...\")\n",
        "orchest.output(alldata, name=\"alldata\")\n",
        "print(\"Success!\")"
      ],
      "metadata": {
        "id": "uYqyrE1AtE60"
      },
      "execution_count": null,
      "outputs": []
    },
    {
      "cell_type": "markdown",
      "source": [
        "**pemisahan data dari class**\n"
      ],
      "metadata": {
        "id": "RFMq9IFksiZ4"
      }
    },
    {
      "cell_type": "code",
      "source": [
        "import pandas\n",
        "import orchest\n",
        "#create a dataframe with all training data except the target column\n",
        "data = orchest.get_inputs()\n",
        "semuadata = data[\"alldata\"]\n",
        "X = semuadata.drop(columns=[\"class\"])\n",
        "#check that the target variable has been removed\n",
        "X.head()"
      ],
      "metadata": {
        "id": "y5V3E2HFtPCm"
      },
      "execution_count": null,
      "outputs": []
    },
    {
      "cell_type": "markdown",
      "source": [
        "**pemisahan menjadi class saja**"
      ],
      "metadata": {
        "id": "K1Y7Z4CBsjh3"
      }
    },
    {
      "cell_type": "code",
      "source": [
        "import pandas as pd\n",
        "import orchest\n",
        "#create a dataframe with all training data except the target column\n",
        "data = orchest.get_inputs()\n",
        "semuadata = data[\"alldata\"]\n",
        "values = semuadata['class'].values\n",
        "y = pd.DataFrame(values)\n",
        "y"
      ],
      "metadata": {
        "id": "_24YII54sHJv"
      },
      "execution_count": null,
      "outputs": []
    }
  ]
}